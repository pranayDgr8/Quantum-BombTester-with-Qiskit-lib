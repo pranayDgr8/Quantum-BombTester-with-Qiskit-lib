{
  "nbformat": 4,
  "nbformat_minor": 0,
  "metadata": {
    "colab": {
      "name": "quantum_computing_bombTester.ipynb",
      "provenance": [],
      "authorship_tag": "ABX9TyMjJt2Ng1ikNPTNOAGNkaj5",
      "include_colab_link": true
    },
    "kernelspec": {
      "name": "python3",
      "display_name": "Python 3"
    },
    "language_info": {
      "name": "python"
    }
  },
  "cells": [
    {
      "cell_type": "markdown",
      "metadata": {
        "id": "view-in-github",
        "colab_type": "text"
      },
      "source": [
        "<a href=\"https://colab.research.google.com/github/pranayDgr8/Quantum-Computing-implementations-with-Qiskit-lib/blob/main/quantum_computing_bombTester.ipynb\" target=\"_parent\"><img src=\"https://colab.research.google.com/assets/colab-badge.svg\" alt=\"Open In Colab\"/></a>"
      ]
    },
    {
      "cell_type": "code",
      "source": [
        "! pip install qiskit"
      ],
      "metadata": {
        "colab": {
          "base_uri": "https://localhost:8080/"
        },
        "id": "_JD1fgzqVGXi",
        "outputId": "ae18eb8a-434b-4cd4-ee5d-e62833b43954"
      },
      "execution_count": 2,
      "outputs": [
        {
          "output_type": "stream",
          "name": "stdout",
          "text": [
            "Collecting qiskit\n",
            "  Downloading qiskit-0.34.2.tar.gz (13 kB)\n",
            "Collecting qiskit-terra==0.19.2\n",
            "  Downloading qiskit_terra-0.19.2-cp37-cp37m-manylinux_2_12_x86_64.manylinux2010_x86_64.whl (6.5 MB)\n",
            "\u001b[K     |████████████████████████████████| 6.5 MB 4.6 MB/s \n",
            "\u001b[?25hCollecting qiskit-aer==0.10.3\n",
            "  Downloading qiskit_aer-0.10.3-cp37-cp37m-manylinux_2_12_x86_64.manylinux2010_x86_64.whl (18.0 MB)\n",
            "\u001b[K     |████████████████████████████████| 18.0 MB 17.2 MB/s \n",
            "\u001b[?25hCollecting qiskit-ibmq-provider==0.18.3\n",
            "  Downloading qiskit_ibmq_provider-0.18.3-py3-none-any.whl (238 kB)\n",
            "\u001b[K     |████████████████████████████████| 238 kB 32.0 MB/s \n",
            "\u001b[?25hCollecting qiskit-ignis==0.7.0\n",
            "  Downloading qiskit_ignis-0.7.0-py3-none-any.whl (200 kB)\n",
            "\u001b[K     |████████████████████████████████| 200 kB 64.1 MB/s \n",
            "\u001b[?25hRequirement already satisfied: numpy>=1.16.3 in /usr/local/lib/python3.7/dist-packages (from qiskit-aer==0.10.3->qiskit) (1.21.5)\n",
            "Requirement already satisfied: scipy>=1.0 in /usr/local/lib/python3.7/dist-packages (from qiskit-aer==0.10.3->qiskit) (1.4.1)\n",
            "Requirement already satisfied: python-dateutil>=2.8.0 in /usr/local/lib/python3.7/dist-packages (from qiskit-ibmq-provider==0.18.3->qiskit) (2.8.2)\n",
            "Collecting websocket-client>=1.0.1\n",
            "  Downloading websocket_client-1.3.0-py3-none-any.whl (53 kB)\n",
            "\u001b[K     |████████████████████████████████| 53 kB 1.5 MB/s \n",
            "\u001b[?25hRequirement already satisfied: urllib3>=1.21.1 in /usr/local/lib/python3.7/dist-packages (from qiskit-ibmq-provider==0.18.3->qiskit) (1.24.3)\n",
            "Collecting requests-ntlm>=1.1.0\n",
            "  Downloading requests_ntlm-1.1.0-py2.py3-none-any.whl (5.7 kB)\n",
            "Requirement already satisfied: requests>=2.19 in /usr/local/lib/python3.7/dist-packages (from qiskit-ibmq-provider==0.18.3->qiskit) (2.23.0)\n",
            "Requirement already satisfied: setuptools>=40.1.0 in /usr/local/lib/python3.7/dist-packages (from qiskit-ignis==0.7.0->qiskit) (57.4.0)\n",
            "Collecting retworkx>=0.8.0\n",
            "  Downloading retworkx-0.11.0-cp37-cp37m-manylinux_2_5_x86_64.manylinux1_x86_64.manylinux_2_12_x86_64.manylinux2010_x86_64.whl (1.6 MB)\n",
            "\u001b[K     |████████████████████████████████| 1.6 MB 28.4 MB/s \n",
            "\u001b[?25hCollecting stevedore>=3.0.0\n",
            "  Downloading stevedore-3.5.0-py3-none-any.whl (49 kB)\n",
            "\u001b[K     |████████████████████████████████| 49 kB 4.9 MB/s \n",
            "\u001b[?25hCollecting python-constraint>=1.4\n",
            "  Downloading python-constraint-1.4.0.tar.bz2 (18 kB)\n",
            "Collecting scipy>=1.0\n",
            "  Downloading scipy-1.7.3-cp37-cp37m-manylinux_2_12_x86_64.manylinux2010_x86_64.whl (38.1 MB)\n",
            "\u001b[K     |████████████████████████████████| 38.1 MB 1.1 MB/s \n",
            "\u001b[?25hRequirement already satisfied: sympy>=1.3 in /usr/local/lib/python3.7/dist-packages (from qiskit-terra==0.19.2->qiskit) (1.7.1)\n",
            "Collecting tweedledum<2.0,>=1.1\n",
            "  Downloading tweedledum-1.1.1-cp37-cp37m-manylinux_2_12_x86_64.manylinux2010_x86_64.whl (943 kB)\n",
            "\u001b[K     |████████████████████████████████| 943 kB 55.6 MB/s \n",
            "\u001b[?25hCollecting ply>=3.10\n",
            "  Downloading ply-3.11-py2.py3-none-any.whl (49 kB)\n",
            "\u001b[K     |████████████████████████████████| 49 kB 5.6 MB/s \n",
            "\u001b[?25hRequirement already satisfied: psutil>=5 in /usr/local/lib/python3.7/dist-packages (from qiskit-terra==0.19.2->qiskit) (5.4.8)\n",
            "Collecting symengine>=0.8\n",
            "  Downloading symengine-0.9.0-cp37-cp37m-manylinux2010_x86_64.whl (37.5 MB)\n",
            "\u001b[K     |████████████████████████████████| 37.5 MB 1.2 MB/s \n",
            "\u001b[?25hRequirement already satisfied: dill>=0.3 in /usr/local/lib/python3.7/dist-packages (from qiskit-terra==0.19.2->qiskit) (0.3.4)\n",
            "Requirement already satisfied: six>=1.5 in /usr/local/lib/python3.7/dist-packages (from python-dateutil>=2.8.0->qiskit-ibmq-provider==0.18.3->qiskit) (1.15.0)\n",
            "Requirement already satisfied: chardet<4,>=3.0.2 in /usr/local/lib/python3.7/dist-packages (from requests>=2.19->qiskit-ibmq-provider==0.18.3->qiskit) (3.0.4)\n",
            "Requirement already satisfied: certifi>=2017.4.17 in /usr/local/lib/python3.7/dist-packages (from requests>=2.19->qiskit-ibmq-provider==0.18.3->qiskit) (2021.10.8)\n",
            "Requirement already satisfied: idna<3,>=2.5 in /usr/local/lib/python3.7/dist-packages (from requests>=2.19->qiskit-ibmq-provider==0.18.3->qiskit) (2.10)\n",
            "Collecting ntlm-auth>=1.0.2\n",
            "  Downloading ntlm_auth-1.5.0-py2.py3-none-any.whl (29 kB)\n",
            "Collecting cryptography>=1.3\n",
            "  Downloading cryptography-36.0.1-cp36-abi3-manylinux_2_24_x86_64.whl (3.6 MB)\n",
            "\u001b[K     |████████████████████████████████| 3.6 MB 53.3 MB/s \n",
            "\u001b[?25hRequirement already satisfied: cffi>=1.12 in /usr/local/lib/python3.7/dist-packages (from cryptography>=1.3->requests-ntlm>=1.1.0->qiskit-ibmq-provider==0.18.3->qiskit) (1.15.0)\n",
            "Requirement already satisfied: pycparser in /usr/local/lib/python3.7/dist-packages (from cffi>=1.12->cryptography>=1.3->requests-ntlm>=1.1.0->qiskit-ibmq-provider==0.18.3->qiskit) (2.21)\n",
            "Requirement already satisfied: importlib-metadata>=1.7.0 in /usr/local/lib/python3.7/dist-packages (from stevedore>=3.0.0->qiskit-terra==0.19.2->qiskit) (4.11.1)\n",
            "Collecting pbr!=2.1.0,>=2.0.0\n",
            "  Downloading pbr-5.8.1-py2.py3-none-any.whl (113 kB)\n",
            "\u001b[K     |████████████████████████████████| 113 kB 54.4 MB/s \n",
            "\u001b[?25hRequirement already satisfied: zipp>=0.5 in /usr/local/lib/python3.7/dist-packages (from importlib-metadata>=1.7.0->stevedore>=3.0.0->qiskit-terra==0.19.2->qiskit) (3.7.0)\n",
            "Requirement already satisfied: typing-extensions>=3.6.4 in /usr/local/lib/python3.7/dist-packages (from importlib-metadata>=1.7.0->stevedore>=3.0.0->qiskit-terra==0.19.2->qiskit) (3.10.0.2)\n",
            "Requirement already satisfied: mpmath>=0.19 in /usr/local/lib/python3.7/dist-packages (from sympy>=1.3->qiskit-terra==0.19.2->qiskit) (1.2.1)\n",
            "Building wheels for collected packages: qiskit, python-constraint\n",
            "  Building wheel for qiskit (setup.py) ... \u001b[?25l\u001b[?25hdone\n",
            "  Created wheel for qiskit: filename=qiskit-0.34.2-py3-none-any.whl size=11805 sha256=8aa5d28f67fa556d2abb1796e12bfea3622909329b6429d9e91a86f94a102b7b\n",
            "  Stored in directory: /root/.cache/pip/wheels/62/77/65/cda6eedfdd2a525bd3f479a4386930ae3088a1eb01f8c944ed\n",
            "  Building wheel for python-constraint (setup.py) ... \u001b[?25l\u001b[?25hdone\n",
            "  Created wheel for python-constraint: filename=python_constraint-1.4.0-py2.py3-none-any.whl size=24081 sha256=f8e73bf2769aeec1d3ce8862f9ef332e3e2d126c9a289f6c157eb162836a79aa\n",
            "  Stored in directory: /root/.cache/pip/wheels/07/27/db/1222c80eb1e431f3d2199c12569cb1cac60f562a451fe30479\n",
            "Successfully built qiskit python-constraint\n",
            "Installing collected packages: pbr, tweedledum, symengine, stevedore, scipy, retworkx, python-constraint, ply, ntlm-auth, cryptography, websocket-client, requests-ntlm, qiskit-terra, qiskit-ignis, qiskit-ibmq-provider, qiskit-aer, qiskit\n",
            "  Attempting uninstall: scipy\n",
            "    Found existing installation: scipy 1.4.1\n",
            "    Uninstalling scipy-1.4.1:\n",
            "      Successfully uninstalled scipy-1.4.1\n",
            "\u001b[31mERROR: pip's dependency resolver does not currently take into account all the packages that are installed. This behaviour is the source of the following dependency conflicts.\n",
            "albumentations 0.1.12 requires imgaug<0.2.7,>=0.2.5, but you have imgaug 0.2.9 which is incompatible.\u001b[0m\n",
            "Successfully installed cryptography-36.0.1 ntlm-auth-1.5.0 pbr-5.8.1 ply-3.11 python-constraint-1.4.0 qiskit-0.34.2 qiskit-aer-0.10.3 qiskit-ibmq-provider-0.18.3 qiskit-ignis-0.7.0 qiskit-terra-0.19.2 requests-ntlm-1.1.0 retworkx-0.11.0 scipy-1.7.3 stevedore-3.5.0 symengine-0.9.0 tweedledum-1.1.1 websocket-client-1.3.0\n"
          ]
        }
      ]
    },
    {
      "cell_type": "code",
      "execution_count": 4,
      "metadata": {
        "id": "_Yye6kYsUyna"
      },
      "outputs": [],
      "source": [
        "from qiskit.circuit import QuantumRegister,ClassicalRegister"
      ]
    },
    {
      "cell_type": "code",
      "source": [
        "from qiskit.circuit.library import RXGate"
      ],
      "metadata": {
        "id": "qXfP4mvBVGWM"
      },
      "execution_count": 6,
      "outputs": []
    },
    {
      "cell_type": "code",
      "source": [
        "import numpy as np"
      ],
      "metadata": {
        "id": "Ip-eZX1AVpaS"
      },
      "execution_count": 7,
      "outputs": []
    },
    {
      "cell_type": "code",
      "source": [
        "cycles=6\n",
        "theta=np.pi/cycles"
      ],
      "metadata": {
        "id": "KHsU9UXvVuI4"
      },
      "execution_count": 8,
      "outputs": []
    },
    {
      "cell_type": "code",
      "source": [
        "from qiskit.circuit.quantumcircuit import QuantumCircuit\n",
        "qr=QuantumRegister(2,'q')\n",
        "cr=ClassicalRegister(cycles,'c')\n",
        "zeno_tester=QuantumCircuit(qr,cr)"
      ],
      "metadata": {
        "id": "iRYJ1GRjV5Wg"
      },
      "execution_count": 9,
      "outputs": []
    },
    {
      "cell_type": "code",
      "source": [
        "for i in range(cycles-1):\n",
        "  zeno_tester.append(RXGate(theta),[qr[0]])\n",
        "  zeno_tester.cx(0,1)\n",
        "  zeno_tester.measure(qr[1],cr[i])\n",
        "  zeno_tester.reset(qr[1])\n",
        "\n"
      ],
      "metadata": {
        "id": "NF9avL3yWhpT"
      },
      "execution_count": 10,
      "outputs": []
    },
    {
      "cell_type": "code",
      "source": [
        "!pip install pylatexenc"
      ],
      "metadata": {
        "colab": {
          "base_uri": "https://localhost:8080/"
        },
        "id": "5nFfaWnEYE17",
        "outputId": "1028785c-d22f-415b-950d-af9f6ebced40"
      },
      "execution_count": 19,
      "outputs": [
        {
          "output_type": "stream",
          "name": "stdout",
          "text": [
            "Requirement already satisfied: pylatexenc in /usr/local/lib/python3.7/dist-packages (2.10)\n"
          ]
        }
      ]
    },
    {
      "cell_type": "code",
      "source": [
        "zeno_tester.append(RXGate(theta),[qr[0]])\n",
        "zeno_tester.measure(qr[1],cr[i])\n",
        "zeno_tester.draw(output='text')"
      ],
      "metadata": {
        "colab": {
          "base_uri": "https://localhost:8080/",
          "height": 341
        },
        "id": "20OD3ZFdXhvo",
        "outputId": "41f60e8c-1d69-4efe-9ef5-0ee58ccaa133"
      },
      "execution_count": 21,
      "outputs": [
        {
          "output_type": "execute_result",
          "data": {
            "text/html": [
              "<pre style=\"word-wrap: normal;white-space: pre;background: #fff0;line-height: 1.1;font-family: &quot;Courier New&quot;,Courier,monospace\">     ┌─────────┐     ┌─────────┐          ┌─────────┐          ┌─────────┐     »\n",
              "q_0: ┤ Rx(π/6) ├──■──┤ Rx(π/6) ├───────■──┤ Rx(π/6) ├───────■──┤ Rx(π/6) ├─────»\n",
              "     └─────────┘┌─┴─┐└───┬─┬───┘     ┌─┴─┐└───┬─┬───┘     ┌─┴─┐└───┬─┬───┘     »\n",
              "q_1: ───────────┤ X ├────┤M├─────|0>─┤ X ├────┤M├─────|0>─┤ X ├────┤M├─────|0>─»\n",
              "                └───┘    └╥┘         └───┘    └╥┘         └───┘    └╥┘         »\n",
              "c: 6/═════════════════════╩════════════════════╩════════════════════╩══════════»\n",
              "                          0                    1                    2          »\n",
              "«          ┌─────────┐          ┌─────────┐┌─────────┐┌─────────┐┌─────────┐»\n",
              "«q_0: ──■──┤ Rx(π/6) ├───────■──┤ Rx(π/6) ├┤ Rx(π/6) ├┤ Rx(π/6) ├┤ Rx(π/6) ├»\n",
              "«     ┌─┴─┐└───┬─┬───┘     ┌─┴─┐└───┬─┬───┘└─────────┘└───┬─┬───┘└───┬─┬───┘»\n",
              "«q_1: ┤ X ├────┤M├─────|0>─┤ X ├────┤M├────────|0>────────┤M├────────┤M├────»\n",
              "«     └───┘    └╥┘         └───┘    └╥┘                   └╥┘        └╥┘    »\n",
              "«c: 6/══════════╩════════════════════╩═════════════════════╩══════════╩═════»\n",
              "«               3                    4                     4          4     »\n",
              "«     ┌─────────┐┌─────────┐┌─────────┐┌─────────┐┌─────────┐      \n",
              "«q_0: ┤ Rx(π/6) ├┤ Rx(π/6) ├┤ Rx(π/6) ├┤ Rx(π/6) ├┤ Rx(π/6) ├──────\n",
              "«     └───┬─┬───┘└───┬─┬───┘└───┬─┬───┘└───┬─┬───┘└───┬─┬───┘┌─┐┌─┐\n",
              "«q_1: ────┤M├────────┤M├────────┤M├────────┤M├────────┤M├────┤M├┤M├\n",
              "«         └╥┘        └╥┘        └╥┘        └╥┘        └╥┘    └╥┘└╥┘\n",
              "«c: 6/═════╩══════════╩══════════╩══════════╩══════════╩══════╩══╩═\n",
              "«          4          4          4          4          4      4  4 </pre>"
            ],
            "text/plain": [
              "     ┌─────────┐     ┌─────────┐          ┌─────────┐          ┌─────────┐     »\n",
              "q_0: ┤ Rx(π/6) ├──■──┤ Rx(π/6) ├───────■──┤ Rx(π/6) ├───────■──┤ Rx(π/6) ├─────»\n",
              "     └─────────┘┌─┴─┐└───┬─┬───┘     ┌─┴─┐└───┬─┬───┘     ┌─┴─┐└───┬─┬───┘     »\n",
              "q_1: ───────────┤ X ├────┤M├─────|0>─┤ X ├────┤M├─────|0>─┤ X ├────┤M├─────|0>─»\n",
              "                └───┘    └╥┘         └───┘    └╥┘         └───┘    └╥┘         »\n",
              "c: 6/═════════════════════╩════════════════════╩════════════════════╩══════════»\n",
              "                          0                    1                    2          »\n",
              "«          ┌─────────┐          ┌─────────┐┌─────────┐┌─────────┐┌─────────┐»\n",
              "«q_0: ──■──┤ Rx(π/6) ├───────■──┤ Rx(π/6) ├┤ Rx(π/6) ├┤ Rx(π/6) ├┤ Rx(π/6) ├»\n",
              "«     ┌─┴─┐└───┬─┬───┘     ┌─┴─┐└───┬─┬───┘└─────────┘└───┬─┬───┘└───┬─┬───┘»\n",
              "«q_1: ┤ X ├────┤M├─────|0>─┤ X ├────┤M├────────|0>────────┤M├────────┤M├────»\n",
              "«     └───┘    └╥┘         └───┘    └╥┘                   └╥┘        └╥┘    »\n",
              "«c: 6/══════════╩════════════════════╩═════════════════════╩══════════╩═════»\n",
              "«               3                    4                     4          4     »\n",
              "«     ┌─────────┐┌─────────┐┌─────────┐┌─────────┐┌─────────┐      \n",
              "«q_0: ┤ Rx(π/6) ├┤ Rx(π/6) ├┤ Rx(π/6) ├┤ Rx(π/6) ├┤ Rx(π/6) ├──────\n",
              "«     └───┬─┬───┘└───┬─┬───┘└───┬─┬───┘└───┬─┬───┘└───┬─┬───┘┌─┐┌─┐\n",
              "«q_1: ────┤M├────────┤M├────────┤M├────────┤M├────────┤M├────┤M├┤M├\n",
              "«         └╥┘        └╥┘        └╥┘        └╥┘        └╥┘    └╥┘└╥┘\n",
              "«c: 6/═════╩══════════╩══════════╩══════════╩══════════╩══════╩══╩═\n",
              "«          4          4          4          4          4      4  4 "
            ]
          },
          "metadata": {},
          "execution_count": 21
        }
      ]
    },
    {
      "cell_type": "code",
      "source": [
        ""
      ],
      "metadata": {
        "id": "3yZVhje9Z4cM"
      },
      "execution_count": null,
      "outputs": []
    },
    {
      "cell_type": "code",
      "source": [
        "# Code for the basic bomb tester circuit\n",
        "\n",
        "from qiskit import QuantumCircuit\n",
        "\n",
        "bomb_tester = QuantumCircuit(2)\n",
        "bomb_tester.h(0)\n",
        "bomb_tester.cx(0, 1)\n",
        "bomb_tester.h(0)\n",
        "bomb_tester.measure_all()\n",
        "bomb_tester.draw(output='text')"
      ],
      "metadata": {
        "colab": {
          "base_uri": "https://localhost:8080/",
          "height": 125
        },
        "id": "zXnBacg1Z4dV",
        "outputId": "7e7bdb4e-e4f6-473f-aac0-8d46502db5cc"
      },
      "execution_count": 27,
      "outputs": [
        {
          "output_type": "execute_result",
          "data": {
            "text/html": [
              "<pre style=\"word-wrap: normal;white-space: pre;background: #fff0;line-height: 1.1;font-family: &quot;Courier New&quot;,Courier,monospace\">        ┌───┐     ┌───┐ ░ ┌─┐   \n",
              "   q_0: ┤ H ├──■──┤ H ├─░─┤M├───\n",
              "        └───┘┌─┴─┐└───┘ ░ └╥┘┌─┐\n",
              "   q_1: ─────┤ X ├──────░──╫─┤M├\n",
              "             └───┘      ░  ║ └╥┘\n",
              "meas: 2/═══════════════════╩══╩═\n",
              "                           0  1 </pre>"
            ],
            "text/plain": [
              "        ┌───┐     ┌───┐ ░ ┌─┐   \n",
              "   q_0: ┤ H ├──■──┤ H ├─░─┤M├───\n",
              "        └───┘┌─┴─┐└───┘ ░ └╥┘┌─┐\n",
              "   q_1: ─────┤ X ├──────░──╫─┤M├\n",
              "             └───┘      ░  ║ └╥┘\n",
              "meas: 2/═══════════════════╩══╩═\n",
              "                           0  1 "
            ]
          },
          "metadata": {},
          "execution_count": 27
        }
      ]
    },
    {
      "cell_type": "code",
      "source": [
        "# Running the basic bomb tester circuit\n",
        "\n",
        "from qiskit.providers.aer import QasmSimulator\n",
        "simulator = QasmSimulator()\n",
        "\n",
        "job = simulator.run(bomb_tester, shots=1000)\n",
        "result = job.result()\n",
        "counts = result.get_counts(bomb_tester)\n",
        "\n",
        "from qiskit.visualization import plot_histogram\n",
        "plot_histogram(counts)"
      ],
      "metadata": {
        "colab": {
          "base_uri": "https://localhost:8080/",
          "height": 331
        },
        "id": "p47JyshbZvKz",
        "outputId": "bee11117-60cd-43d8-84e2-7c3b1199461a"
      },
      "execution_count": 28,
      "outputs": [
        {
          "output_type": "execute_result",
          "data": {
            "image/png": "[encoded data removed]",
            "text/plain": [
              "<Figure size 504x360 with 1 Axes>"
            ]
          },
          "metadata": {},
          "execution_count": 28
        }
      ]
    },
    {
      "cell_type": "code",
      "source": [
        "# Running the Zeno bomb tester \n",
        "\n",
        "zeno_job = simulator.run(zeno_tester, shots=1000)\n",
        "zeno_result = zeno_job.result()\n",
        "zeno_counts = zeno_result.get_counts(zeno_tester)\n",
        "\n",
        "plot_histogram(zeno_counts)"
      ],
      "metadata": {
        "colab": {
          "base_uri": "https://localhost:8080/",
          "height": 364
        },
        "id": "oercxJH7ZenU",
        "outputId": "34272e44-eca1-43da-a336-13434113b274"
      },
      "execution_count": 29,
      "outputs": [
        {
          "output_type": "execute_result",
          "data": {
            "image/png": "[encoded data removed]",
            "text/plain": [
              "<Figure size 504x360 with 1 Axes>"
            ]
          },
          "metadata": {},
          "execution_count": 29
        }
      ]
    },
    {
      "cell_type": "code",
      "source": [
        "# Setting up the circuit for quantum minesweeper \n",
        "\n",
        "from qiskit.circuit.library import CCXGate\n",
        "\n",
        "def q_sweeper(cycles) -> QuantumCircuit:\n",
        "    qr = QuantumRegister(3, 'q')\n",
        "    cr = ClassicalRegister(cycles+1, 'c')\n",
        "    qc = QuantumCircuit(qr, cr)\n",
        "    qc.h(qr[0])\n",
        "    for cycle in range(cycles-1):\n",
        "        qc.append(RXGate(theta), [qr[1]])\n",
        "        qc.ccx(qr[0], qr[1], qr[2]) \n",
        "        qc.measure(qr[2],cr[cycle])\n",
        "        if cycle < cycles-1:\n",
        "            qc.reset(qr[2])\n",
        "        \n",
        "    qc.append(RXGate(theta), [qr[1]])\n",
        "    qc.measure(qr[1],cr[cycles-1])\n",
        "    qc.measure(qr[0],cr[cycles])\n",
        "    return qc\n",
        "\n",
        "successes = 0 # We will use this variable to track the number of successful predictions in a row\n",
        "cycles = 6\n",
        "theta = np.pi/cycles\n",
        "\n",
        "zeno_circuit = q_sweeper(cycles)\n",
        "zeno_circuit.draw(output='text')"
      ],
      "metadata": {
        "colab": {
          "base_uri": "https://localhost:8080/",
          "height": 294
        },
        "id": "zh0xk26tZ_qU",
        "outputId": "77a52a48-68cd-4629-8ff7-7ac557d151a3"
      },
      "execution_count": 31,
      "outputs": [
        {
          "output_type": "execute_result",
          "data": {
            "text/html": [
              "<pre style=\"word-wrap: normal;white-space: pre;background: #fff0;line-height: 1.1;font-family: &quot;Courier New&quot;,Courier,monospace\">        ┌───┐                                                                  »\n",
              "q_0: ───┤ H ├─────■────────────────────■────────────────────■──────────────────»\n",
              "     ┌──┴───┴──┐  │  ┌─────────┐       │  ┌─────────┐       │  ┌─────────┐     »\n",
              "q_1: ┤ Rx(π/6) ├──■──┤ Rx(π/6) ├───────■──┤ Rx(π/6) ├───────■──┤ Rx(π/6) ├─────»\n",
              "     └─────────┘┌─┴─┐└───┬─┬───┘     ┌─┴─┐└───┬─┬───┘     ┌─┴─┐└───┬─┬───┘     »\n",
              "q_2: ───────────┤ X ├────┤M├─────|0>─┤ X ├────┤M├─────|0>─┤ X ├────┤M├─────|0>─»\n",
              "                └───┘    └╥┘         └───┘    └╥┘         └───┘    └╥┘         »\n",
              "c: 7/═════════════════════╩════════════════════╩════════════════════╩══════════»\n",
              "                          0                    1                    2          »\n",
              "«                                          ┌─┐        \n",
              "«q_0: ──■────────────────────■─────────────┤M├────────\n",
              "«       │  ┌─────────┐       │  ┌─────────┐└╥┘     ┌─┐\n",
              "«q_1: ──■──┤ Rx(π/6) ├───────■──┤ Rx(π/6) ├─╫──────┤M├\n",
              "«     ┌─┴─┐└───┬─┬───┘     ┌─┴─┐└───┬─┬───┘ ║      └╥┘\n",
              "«q_2: ┤ X ├────┤M├─────|0>─┤ X ├────┤M├─────╫──|0>──╫─\n",
              "«     └───┘    └╥┘         └───┘    └╥┘     ║       ║ \n",
              "«c: 7/══════════╩════════════════════╩══════╩═══════╩═\n",
              "«               3                    4      6       5 </pre>"
            ],
            "text/plain": [
              "        ┌───┐                                                                  »\n",
              "q_0: ───┤ H ├─────■────────────────────■────────────────────■──────────────────»\n",
              "     ┌──┴───┴──┐  │  ┌─────────┐       │  ┌─────────┐       │  ┌─────────┐     »\n",
              "q_1: ┤ Rx(π/6) ├──■──┤ Rx(π/6) ├───────■──┤ Rx(π/6) ├───────■──┤ Rx(π/6) ├─────»\n",
              "     └─────────┘┌─┴─┐└───┬─┬───┘     ┌─┴─┐└───┬─┬───┘     ┌─┴─┐└───┬─┬───┘     »\n",
              "q_2: ───────────┤ X ├────┤M├─────|0>─┤ X ├────┤M├─────|0>─┤ X ├────┤M├─────|0>─»\n",
              "                └───┘    └╥┘         └───┘    └╥┘         └───┘    └╥┘         »\n",
              "c: 7/═════════════════════╩════════════════════╩════════════════════╩══════════»\n",
              "                          0                    1                    2          »\n",
              "«                                          ┌─┐        \n",
              "«q_0: ──■────────────────────■─────────────┤M├────────\n",
              "«       │  ┌─────────┐       │  ┌─────────┐└╥┘     ┌─┐\n",
              "«q_1: ──■──┤ Rx(π/6) ├───────■──┤ Rx(π/6) ├─╫──────┤M├\n",
              "«     ┌─┴─┐└───┬─┬───┘     ┌─┴─┐└───┬─┬───┘ ║      └╥┘\n",
              "«q_2: ┤ X ├────┤M├─────|0>─┤ X ├────┤M├─────╫──|0>──╫─\n",
              "«     └───┘    └╥┘         └───┘    └╥┘     ║       ║ \n",
              "«c: 7/══════════╩════════════════════╩══════╩═══════╩═\n",
              "«               3                    4      6       5 "
            ]
          },
          "metadata": {},
          "execution_count": 31
        }
      ]
    },
    {
      "cell_type": "code",
      "source": [
        "# Game of quantum minesweeper \n",
        "qsweeper_job = simulator.run(zeno_circuit, shots=1)\n",
        "qsweeper_result = qsweeper_job.result()\n",
        "qsweeper_counts = qsweeper_result.get_counts(zeno_circuit)\n",
        "\n",
        "result = sorted(qsweeper_counts.keys())[0]\n",
        "\n",
        "for i in range(2,cycles): # Check that none of the 3rd to last bits have flipped to a 1 \n",
        "    if int(result[i]) == 1:\n",
        "        print(\"BOOM! The bomb has exploded. You lose... :(\")\n",
        "        print(\"Your score was:\") \n",
        "        print(successes)\n",
        "        successes = 0\n",
        "        explode = 1\n",
        "        break\n",
        "    else:\n",
        "        explode = 0\n",
        "    \n",
        "if explode == 0:\n",
        "    print(\"The qubit predicts...\")\n",
        "    if int(result[1]) == 0:\n",
        "        print(\"Bomb present\")\n",
        "        Prediction = input(\"What do you think? Type 0 for no bomb, 1 for bomb.\")\n",
        "    else:\n",
        "        print(\"No bomb\")\n",
        "        Prediction = input(\"What do you think? Type 0 for no bomb, 1 for bomb.\")\n",
        "        \n",
        "    if Prediction == \"0\": \n",
        "        print(\"You predicted there is no bomb.\")\n",
        "    elif Prediction == \"1\":\n",
        "        print(\"You predicted there is a bomb\")\n",
        "    else:\n",
        "        print(\"Invalid prediction!\")\n",
        "\n",
        "    if Prediction == result[0]:\n",
        "        print(\"Congratulations! You predicted correctly, you win Quantum Minesweeper! :D\")\n",
        "        successes += 1\n",
        "    elif int(Prediction) == (int(result[0]) + 1) % 2:\n",
        "        print(\"Uh oh! You predicted wrong. You lose :(\")\n",
        "        print(\"Your score was:\") \n",
        "        print(successes)\n",
        "        successes = 0\n",
        "    else:\n",
        "        print(\"Prediction was invalid so your score is unchanged.\")\n",
        "    \n",
        "print(\"Quantum Minesweeper score:\")\n",
        "print(successes)"
      ],
      "metadata": {
        "colab": {
          "base_uri": "https://localhost:8080/"
        },
        "id": "xfJ7j-WFXhwp",
        "outputId": "eca3fbe6-2246-448d-9216-71b853755d97"
      },
      "execution_count": 32,
      "outputs": [
        {
          "output_type": "stream",
          "name": "stdout",
          "text": [
            "The qubit predicts...\n",
            "No bomb\n",
            "What do you think? Type 0 for no bomb, 1 for bomb.0\n",
            "You predicted there is no bomb.\n",
            "Congratulations! You predicted correctly, you win Quantum Minesweeper! :D\n",
            "Quantum Minesweeper score:\n",
            "1\n"
          ]
        }
      ]
    }
  ]
}